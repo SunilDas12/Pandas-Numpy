{
 "cells": [
  {
   "cell_type": "code",
   "execution_count": 1,
   "id": "edb12af4",
   "metadata": {},
   "outputs": [],
   "source": [
    "import pandas as pd"
   ]
  },
  {
   "cell_type": "code",
   "execution_count": 14,
   "id": "35142057",
   "metadata": {},
   "outputs": [
    {
     "data": {
      "text/plain": [
       "0                     Elon Musk\n",
       "1                    Jeff Bezos\n",
       "2      Bernard Arnault & family\n",
       "3                    Bill Gates\n",
       "4                Warren Buffett\n",
       "                 ...           \n",
       "96             Vladimir Potanin\n",
       "97         Harold Hamm & family\n",
       "98                 Sun Piaoyang\n",
       "99           Luo Liguo & family\n",
       "100                   Peter Woo\n",
       "Name: Name, Length: 101, dtype: object"
      ]
     },
     "execution_count": 14,
     "metadata": {},
     "output_type": "execute_result"
    }
   ],
   "source": [
    "richest=pd.read_csv('Resources\\TopRichestInWorld.csv', usecols=['Name']).squeeze()\n",
    "richest"
   ]
  },
  {
   "cell_type": "code",
   "execution_count": 15,
   "id": "cbeb3a38",
   "metadata": {},
   "outputs": [
    {
     "data": {
      "text/plain": [
       "pandas.core.series.Series"
      ]
     },
     "execution_count": 15,
     "metadata": {},
     "output_type": "execute_result"
    }
   ],
   "source": [
    "type(richest)"
   ]
  },
  {
   "cell_type": "code",
   "execution_count": null,
   "id": "6813e872",
   "metadata": {},
   "outputs": [],
   "source": [
    "richest.to_csv('Resources\\Test.csv', index=False)"
   ]
  },
  {
   "cell_type": "code",
   "execution_count": 17,
   "id": "28da1b72",
   "metadata": {},
   "outputs": [
    {
     "data": {
      "text/html": [
       "<div>\n",
       "<style scoped>\n",
       "    .dataframe tbody tr th:only-of-type {\n",
       "        vertical-align: middle;\n",
       "    }\n",
       "\n",
       "    .dataframe tbody tr th {\n",
       "        vertical-align: top;\n",
       "    }\n",
       "\n",
       "    .dataframe thead th {\n",
       "        text-align: right;\n",
       "    }\n",
       "</style>\n",
       "<table border=\"1\" class=\"dataframe\">\n",
       "  <thead>\n",
       "    <tr style=\"text-align: right;\">\n",
       "      <th></th>\n",
       "      <th>Name</th>\n",
       "    </tr>\n",
       "  </thead>\n",
       "  <tbody>\n",
       "    <tr>\n",
       "      <th>0</th>\n",
       "      <td>Elon Musk</td>\n",
       "    </tr>\n",
       "    <tr>\n",
       "      <th>1</th>\n",
       "      <td>Jeff Bezos</td>\n",
       "    </tr>\n",
       "    <tr>\n",
       "      <th>2</th>\n",
       "      <td>Bernard Arnault &amp; family</td>\n",
       "    </tr>\n",
       "    <tr>\n",
       "      <th>3</th>\n",
       "      <td>Bill Gates</td>\n",
       "    </tr>\n",
       "    <tr>\n",
       "      <th>4</th>\n",
       "      <td>Warren Buffett</td>\n",
       "    </tr>\n",
       "    <tr>\n",
       "      <th>...</th>\n",
       "      <td>...</td>\n",
       "    </tr>\n",
       "    <tr>\n",
       "      <th>96</th>\n",
       "      <td>Vladimir Potanin</td>\n",
       "    </tr>\n",
       "    <tr>\n",
       "      <th>97</th>\n",
       "      <td>Harold Hamm &amp; family</td>\n",
       "    </tr>\n",
       "    <tr>\n",
       "      <th>98</th>\n",
       "      <td>Sun Piaoyang</td>\n",
       "    </tr>\n",
       "    <tr>\n",
       "      <th>99</th>\n",
       "      <td>Luo Liguo &amp; family</td>\n",
       "    </tr>\n",
       "    <tr>\n",
       "      <th>100</th>\n",
       "      <td>Peter Woo</td>\n",
       "    </tr>\n",
       "  </tbody>\n",
       "</table>\n",
       "<p>101 rows × 1 columns</p>\n",
       "</div>"
      ],
      "text/plain": [
       "                         Name\n",
       "0                   Elon Musk\n",
       "1                  Jeff Bezos\n",
       "2    Bernard Arnault & family\n",
       "3                  Bill Gates\n",
       "4              Warren Buffett\n",
       "..                        ...\n",
       "96           Vladimir Potanin\n",
       "97       Harold Hamm & family\n",
       "98               Sun Piaoyang\n",
       "99         Luo Liguo & family\n",
       "100                 Peter Woo\n",
       "\n",
       "[101 rows x 1 columns]"
      ]
     },
     "execution_count": 17,
     "metadata": {},
     "output_type": "execute_result"
    }
   ],
   "source": [
    "pd.read_csv('Resources\\Test.csv')"
   ]
  },
  {
   "cell_type": "markdown",
   "id": "aab073db",
   "metadata": {},
   "source": [
    "1-head() & tail()"
   ]
  },
  {
   "cell_type": "code",
   "execution_count": 22,
   "id": "89a89494",
   "metadata": {},
   "outputs": [],
   "source": [
    "richest=pd.read_csv('Resources\\TopRichestInWorld.csv')"
   ]
  },
  {
   "cell_type": "code",
   "execution_count": 23,
   "id": "b026120c",
   "metadata": {},
   "outputs": [
    {
     "data": {
      "text/html": [
       "<div>\n",
       "<style scoped>\n",
       "    .dataframe tbody tr th:only-of-type {\n",
       "        vertical-align: middle;\n",
       "    }\n",
       "\n",
       "    .dataframe tbody tr th {\n",
       "        vertical-align: top;\n",
       "    }\n",
       "\n",
       "    .dataframe thead th {\n",
       "        text-align: right;\n",
       "    }\n",
       "</style>\n",
       "<table border=\"1\" class=\"dataframe\">\n",
       "  <thead>\n",
       "    <tr style=\"text-align: right;\">\n",
       "      <th></th>\n",
       "      <th>Name</th>\n",
       "      <th>NetWorth</th>\n",
       "      <th>Age</th>\n",
       "      <th>Country/Territory</th>\n",
       "      <th>Source</th>\n",
       "      <th>Industry</th>\n",
       "    </tr>\n",
       "  </thead>\n",
       "  <tbody>\n",
       "    <tr>\n",
       "      <th>0</th>\n",
       "      <td>Elon Musk</td>\n",
       "      <td>$219,000,000,000</td>\n",
       "      <td>50</td>\n",
       "      <td>United States</td>\n",
       "      <td>Tesla, SpaceX</td>\n",
       "      <td>Automotive</td>\n",
       "    </tr>\n",
       "    <tr>\n",
       "      <th>1</th>\n",
       "      <td>Jeff Bezos</td>\n",
       "      <td>$171,000,000,000</td>\n",
       "      <td>58</td>\n",
       "      <td>United States</td>\n",
       "      <td>Amazon</td>\n",
       "      <td>Technology</td>\n",
       "    </tr>\n",
       "    <tr>\n",
       "      <th>2</th>\n",
       "      <td>Bernard Arnault &amp; family</td>\n",
       "      <td>$158,000,000,000</td>\n",
       "      <td>73</td>\n",
       "      <td>France</td>\n",
       "      <td>LVMH</td>\n",
       "      <td>Fashion &amp; Retail</td>\n",
       "    </tr>\n",
       "    <tr>\n",
       "      <th>3</th>\n",
       "      <td>Bill Gates</td>\n",
       "      <td>$129,000,000,000</td>\n",
       "      <td>66</td>\n",
       "      <td>United States</td>\n",
       "      <td>Microsoft</td>\n",
       "      <td>Technology</td>\n",
       "    </tr>\n",
       "    <tr>\n",
       "      <th>4</th>\n",
       "      <td>Warren Buffett</td>\n",
       "      <td>$118,000,000,000</td>\n",
       "      <td>91</td>\n",
       "      <td>United States</td>\n",
       "      <td>Berkshire Hathaway</td>\n",
       "      <td>Finance &amp; Investments</td>\n",
       "    </tr>\n",
       "    <tr>\n",
       "      <th>5</th>\n",
       "      <td>Larry Page</td>\n",
       "      <td>$111,000,000,000</td>\n",
       "      <td>49</td>\n",
       "      <td>United States</td>\n",
       "      <td>Google</td>\n",
       "      <td>Technology</td>\n",
       "    </tr>\n",
       "    <tr>\n",
       "      <th>6</th>\n",
       "      <td>Sergey Brin</td>\n",
       "      <td>$107,000,000,000</td>\n",
       "      <td>48</td>\n",
       "      <td>United States</td>\n",
       "      <td>Google</td>\n",
       "      <td>Technology</td>\n",
       "    </tr>\n",
       "    <tr>\n",
       "      <th>7</th>\n",
       "      <td>Larry Ellison</td>\n",
       "      <td>$106,000,000,000</td>\n",
       "      <td>77</td>\n",
       "      <td>United States</td>\n",
       "      <td>software</td>\n",
       "      <td>Technology</td>\n",
       "    </tr>\n",
       "    <tr>\n",
       "      <th>8</th>\n",
       "      <td>Steve Ballmer</td>\n",
       "      <td>$91,400,000,000</td>\n",
       "      <td>66</td>\n",
       "      <td>United States</td>\n",
       "      <td>Microsoft</td>\n",
       "      <td>Technology</td>\n",
       "    </tr>\n",
       "    <tr>\n",
       "      <th>9</th>\n",
       "      <td>Mukesh Ambani</td>\n",
       "      <td>$90,700,000,000</td>\n",
       "      <td>64</td>\n",
       "      <td>India</td>\n",
       "      <td>diversified</td>\n",
       "      <td>Diversified</td>\n",
       "    </tr>\n",
       "  </tbody>\n",
       "</table>\n",
       "</div>"
      ],
      "text/plain": [
       "                       Name          NetWorth  Age Country/Territory  \\\n",
       "0                 Elon Musk  $219,000,000,000   50     United States   \n",
       "1                Jeff Bezos  $171,000,000,000   58     United States   \n",
       "2  Bernard Arnault & family  $158,000,000,000   73            France   \n",
       "3                Bill Gates  $129,000,000,000   66     United States   \n",
       "4            Warren Buffett  $118,000,000,000   91     United States   \n",
       "5                Larry Page  $111,000,000,000   49     United States   \n",
       "6               Sergey Brin  $107,000,000,000   48     United States   \n",
       "7             Larry Ellison  $106,000,000,000   77     United States   \n",
       "8             Steve Ballmer   $91,400,000,000   66     United States   \n",
       "9             Mukesh Ambani   $90,700,000,000   64             India   \n",
       "\n",
       "               Source               Industry  \n",
       "0       Tesla, SpaceX             Automotive  \n",
       "1              Amazon             Technology  \n",
       "2                LVMH       Fashion & Retail  \n",
       "3           Microsoft             Technology  \n",
       "4  Berkshire Hathaway  Finance & Investments  \n",
       "5              Google             Technology  \n",
       "6              Google             Technology  \n",
       "7            software             Technology  \n",
       "8           Microsoft             Technology  \n",
       "9         diversified            Diversified  "
      ]
     },
     "execution_count": 23,
     "metadata": {},
     "output_type": "execute_result"
    }
   ],
   "source": [
    "richest.head(10)  #will return the first 10 rows"
   ]
  },
  {
   "cell_type": "code",
   "execution_count": 24,
   "id": "eab8b2a2",
   "metadata": {},
   "outputs": [
    {
     "data": {
      "text/html": [
       "<div>\n",
       "<style scoped>\n",
       "    .dataframe tbody tr th:only-of-type {\n",
       "        vertical-align: middle;\n",
       "    }\n",
       "\n",
       "    .dataframe tbody tr th {\n",
       "        vertical-align: top;\n",
       "    }\n",
       "\n",
       "    .dataframe thead th {\n",
       "        text-align: right;\n",
       "    }\n",
       "</style>\n",
       "<table border=\"1\" class=\"dataframe\">\n",
       "  <thead>\n",
       "    <tr style=\"text-align: right;\">\n",
       "      <th></th>\n",
       "      <th>Name</th>\n",
       "      <th>NetWorth</th>\n",
       "      <th>Age</th>\n",
       "      <th>Country/Territory</th>\n",
       "      <th>Source</th>\n",
       "      <th>Industry</th>\n",
       "    </tr>\n",
       "  </thead>\n",
       "  <tbody>\n",
       "    <tr>\n",
       "      <th>0</th>\n",
       "      <td>Elon Musk</td>\n",
       "      <td>$219,000,000,000</td>\n",
       "      <td>50</td>\n",
       "      <td>United States</td>\n",
       "      <td>Tesla, SpaceX</td>\n",
       "      <td>Automotive</td>\n",
       "    </tr>\n",
       "    <tr>\n",
       "      <th>1</th>\n",
       "      <td>Jeff Bezos</td>\n",
       "      <td>$171,000,000,000</td>\n",
       "      <td>58</td>\n",
       "      <td>United States</td>\n",
       "      <td>Amazon</td>\n",
       "      <td>Technology</td>\n",
       "    </tr>\n",
       "    <tr>\n",
       "      <th>2</th>\n",
       "      <td>Bernard Arnault &amp; family</td>\n",
       "      <td>$158,000,000,000</td>\n",
       "      <td>73</td>\n",
       "      <td>France</td>\n",
       "      <td>LVMH</td>\n",
       "      <td>Fashion &amp; Retail</td>\n",
       "    </tr>\n",
       "    <tr>\n",
       "      <th>3</th>\n",
       "      <td>Bill Gates</td>\n",
       "      <td>$129,000,000,000</td>\n",
       "      <td>66</td>\n",
       "      <td>United States</td>\n",
       "      <td>Microsoft</td>\n",
       "      <td>Technology</td>\n",
       "    </tr>\n",
       "    <tr>\n",
       "      <th>4</th>\n",
       "      <td>Warren Buffett</td>\n",
       "      <td>$118,000,000,000</td>\n",
       "      <td>91</td>\n",
       "      <td>United States</td>\n",
       "      <td>Berkshire Hathaway</td>\n",
       "      <td>Finance &amp; Investments</td>\n",
       "    </tr>\n",
       "    <tr>\n",
       "      <th>...</th>\n",
       "      <td>...</td>\n",
       "      <td>...</td>\n",
       "      <td>...</td>\n",
       "      <td>...</td>\n",
       "      <td>...</td>\n",
       "      <td>...</td>\n",
       "    </tr>\n",
       "    <tr>\n",
       "      <th>86</th>\n",
       "      <td>Vladimir Lisin</td>\n",
       "      <td>$18,400,000,000</td>\n",
       "      <td>65</td>\n",
       "      <td>Russia</td>\n",
       "      <td>steel, transport</td>\n",
       "      <td>Metals &amp; Mining</td>\n",
       "    </tr>\n",
       "    <tr>\n",
       "      <th>87</th>\n",
       "      <td>Fan Hongwei &amp; family</td>\n",
       "      <td>$18,200,000,000</td>\n",
       "      <td>55</td>\n",
       "      <td>China</td>\n",
       "      <td>petrochemicals</td>\n",
       "      <td>Energy</td>\n",
       "    </tr>\n",
       "    <tr>\n",
       "      <th>88</th>\n",
       "      <td>Lakshmi Mittal</td>\n",
       "      <td>$17,900,000,000</td>\n",
       "      <td>71</td>\n",
       "      <td>India</td>\n",
       "      <td>steel</td>\n",
       "      <td>Metals &amp; Mining</td>\n",
       "    </tr>\n",
       "    <tr>\n",
       "      <th>89</th>\n",
       "      <td>Andrew Forrest</td>\n",
       "      <td>$17,800,000,000</td>\n",
       "      <td>60</td>\n",
       "      <td>Australia</td>\n",
       "      <td>mining</td>\n",
       "      <td>Metals &amp; Mining</td>\n",
       "    </tr>\n",
       "    <tr>\n",
       "      <th>90</th>\n",
       "      <td>Jiang Rensheng &amp; family</td>\n",
       "      <td>$17,700,000,000</td>\n",
       "      <td>68</td>\n",
       "      <td>China</td>\n",
       "      <td>vaccines</td>\n",
       "      <td>Healthcare</td>\n",
       "    </tr>\n",
       "  </tbody>\n",
       "</table>\n",
       "<p>91 rows × 6 columns</p>\n",
       "</div>"
      ],
      "text/plain": [
       "                        Name          NetWorth  Age Country/Territory  \\\n",
       "0                  Elon Musk  $219,000,000,000   50     United States   \n",
       "1                 Jeff Bezos  $171,000,000,000   58     United States   \n",
       "2   Bernard Arnault & family  $158,000,000,000   73            France   \n",
       "3                 Bill Gates  $129,000,000,000   66     United States   \n",
       "4             Warren Buffett  $118,000,000,000   91     United States   \n",
       "..                       ...               ...  ...               ...   \n",
       "86            Vladimir Lisin   $18,400,000,000   65            Russia   \n",
       "87      Fan Hongwei & family   $18,200,000,000   55             China   \n",
       "88            Lakshmi Mittal   $17,900,000,000   71             India   \n",
       "89            Andrew Forrest   $17,800,000,000   60         Australia   \n",
       "90   Jiang Rensheng & family   $17,700,000,000   68             China   \n",
       "\n",
       "                Source               Industry  \n",
       "0        Tesla, SpaceX             Automotive  \n",
       "1               Amazon             Technology  \n",
       "2                 LVMH       Fashion & Retail  \n",
       "3            Microsoft             Technology  \n",
       "4   Berkshire Hathaway  Finance & Investments  \n",
       "..                 ...                    ...  \n",
       "86    steel, transport        Metals & Mining  \n",
       "87      petrochemicals                 Energy  \n",
       "88               steel        Metals & Mining  \n",
       "89              mining        Metals & Mining  \n",
       "90            vaccines             Healthcare  \n",
       "\n",
       "[91 rows x 6 columns]"
      ]
     },
     "execution_count": 24,
     "metadata": {},
     "output_type": "execute_result"
    }
   ],
   "source": [
    "richest.head(-10)  # Will return all rows from the start (excluding last 10)"
   ]
  },
  {
   "cell_type": "code",
   "execution_count": 25,
   "id": "769a5fd4",
   "metadata": {},
   "outputs": [
    {
     "data": {
      "text/html": [
       "<div>\n",
       "<style scoped>\n",
       "    .dataframe tbody tr th:only-of-type {\n",
       "        vertical-align: middle;\n",
       "    }\n",
       "\n",
       "    .dataframe tbody tr th {\n",
       "        vertical-align: top;\n",
       "    }\n",
       "\n",
       "    .dataframe thead th {\n",
       "        text-align: right;\n",
       "    }\n",
       "</style>\n",
       "<table border=\"1\" class=\"dataframe\">\n",
       "  <thead>\n",
       "    <tr style=\"text-align: right;\">\n",
       "      <th></th>\n",
       "      <th>Name</th>\n",
       "      <th>NetWorth</th>\n",
       "      <th>Age</th>\n",
       "      <th>Country/Territory</th>\n",
       "      <th>Source</th>\n",
       "      <th>Industry</th>\n",
       "    </tr>\n",
       "  </thead>\n",
       "  <tbody>\n",
       "    <tr>\n",
       "      <th>91</th>\n",
       "      <td>Savitri Jindal &amp; family</td>\n",
       "      <td>$17,700,000,000</td>\n",
       "      <td>72</td>\n",
       "      <td>India</td>\n",
       "      <td>steel</td>\n",
       "      <td>Metals &amp; Mining</td>\n",
       "    </tr>\n",
       "    <tr>\n",
       "      <th>92</th>\n",
       "      <td>Wang Wenyin</td>\n",
       "      <td>$17,700,000,000</td>\n",
       "      <td>54</td>\n",
       "      <td>China</td>\n",
       "      <td>mining, copper products</td>\n",
       "      <td>Metals &amp; Mining</td>\n",
       "    </tr>\n",
       "    <tr>\n",
       "      <th>93</th>\n",
       "      <td>Li Xiting</td>\n",
       "      <td>$17,600,000,000</td>\n",
       "      <td>71</td>\n",
       "      <td>Singapore</td>\n",
       "      <td>medical devices</td>\n",
       "      <td>Healthcare</td>\n",
       "    </tr>\n",
       "    <tr>\n",
       "      <th>94</th>\n",
       "      <td>Stefan Persson</td>\n",
       "      <td>$17,600,000,000</td>\n",
       "      <td>74</td>\n",
       "      <td>Sweden</td>\n",
       "      <td>H&amp;M</td>\n",
       "      <td>Fashion &amp; Retail</td>\n",
       "    </tr>\n",
       "    <tr>\n",
       "      <th>95</th>\n",
       "      <td>Steve Cohen</td>\n",
       "      <td>$17,400,000,000</td>\n",
       "      <td>65</td>\n",
       "      <td>United States</td>\n",
       "      <td>hedge funds</td>\n",
       "      <td>Finance &amp; Investments</td>\n",
       "    </tr>\n",
       "    <tr>\n",
       "      <th>96</th>\n",
       "      <td>Vladimir Potanin</td>\n",
       "      <td>$17,300,000,000</td>\n",
       "      <td>61</td>\n",
       "      <td>Russia</td>\n",
       "      <td>metals</td>\n",
       "      <td>Metals &amp; Mining</td>\n",
       "    </tr>\n",
       "    <tr>\n",
       "      <th>97</th>\n",
       "      <td>Harold Hamm &amp; family</td>\n",
       "      <td>$17,200,000,000</td>\n",
       "      <td>76</td>\n",
       "      <td>United States</td>\n",
       "      <td>oil &amp; gas</td>\n",
       "      <td>Energy</td>\n",
       "    </tr>\n",
       "    <tr>\n",
       "      <th>98</th>\n",
       "      <td>Sun Piaoyang</td>\n",
       "      <td>$17,100,000,000</td>\n",
       "      <td>63</td>\n",
       "      <td>China</td>\n",
       "      <td>pharmaceuticals</td>\n",
       "      <td>Healthcare</td>\n",
       "    </tr>\n",
       "    <tr>\n",
       "      <th>99</th>\n",
       "      <td>Luo Liguo &amp; family</td>\n",
       "      <td>$17,000,000,000</td>\n",
       "      <td>66</td>\n",
       "      <td>China</td>\n",
       "      <td>chemicals</td>\n",
       "      <td>Manufacturing</td>\n",
       "    </tr>\n",
       "    <tr>\n",
       "      <th>100</th>\n",
       "      <td>Peter Woo</td>\n",
       "      <td>$17,000,000,000</td>\n",
       "      <td>75</td>\n",
       "      <td>Hong Kong</td>\n",
       "      <td>real estate</td>\n",
       "      <td>Real Estate</td>\n",
       "    </tr>\n",
       "  </tbody>\n",
       "</table>\n",
       "</div>"
      ],
      "text/plain": [
       "                        Name         NetWorth  Age Country/Territory  \\\n",
       "91   Savitri Jindal & family  $17,700,000,000   72             India   \n",
       "92               Wang Wenyin  $17,700,000,000   54             China   \n",
       "93                 Li Xiting  $17,600,000,000   71         Singapore   \n",
       "94            Stefan Persson  $17,600,000,000   74            Sweden   \n",
       "95               Steve Cohen  $17,400,000,000   65     United States   \n",
       "96          Vladimir Potanin  $17,300,000,000   61            Russia   \n",
       "97      Harold Hamm & family  $17,200,000,000   76     United States   \n",
       "98              Sun Piaoyang  $17,100,000,000   63             China   \n",
       "99        Luo Liguo & family  $17,000,000,000   66             China   \n",
       "100                Peter Woo  $17,000,000,000   75         Hong Kong   \n",
       "\n",
       "                      Source               Industry  \n",
       "91                     steel        Metals & Mining  \n",
       "92   mining, copper products        Metals & Mining  \n",
       "93           medical devices             Healthcare  \n",
       "94                       H&M       Fashion & Retail  \n",
       "95               hedge funds  Finance & Investments  \n",
       "96                    metals        Metals & Mining  \n",
       "97                 oil & gas                 Energy  \n",
       "98           pharmaceuticals             Healthcare  \n",
       "99                 chemicals          Manufacturing  \n",
       "100              real estate            Real Estate  "
      ]
     },
     "execution_count": 25,
     "metadata": {},
     "output_type": "execute_result"
    }
   ],
   "source": [
    "richest.tail(10)  #will return the last 10 rows"
   ]
  },
  {
   "cell_type": "code",
   "execution_count": 26,
   "id": "d6f75dbe",
   "metadata": {},
   "outputs": [
    {
     "data": {
      "text/html": [
       "<div>\n",
       "<style scoped>\n",
       "    .dataframe tbody tr th:only-of-type {\n",
       "        vertical-align: middle;\n",
       "    }\n",
       "\n",
       "    .dataframe tbody tr th {\n",
       "        vertical-align: top;\n",
       "    }\n",
       "\n",
       "    .dataframe thead th {\n",
       "        text-align: right;\n",
       "    }\n",
       "</style>\n",
       "<table border=\"1\" class=\"dataframe\">\n",
       "  <thead>\n",
       "    <tr style=\"text-align: right;\">\n",
       "      <th></th>\n",
       "      <th>Name</th>\n",
       "      <th>NetWorth</th>\n",
       "      <th>Age</th>\n",
       "      <th>Country/Territory</th>\n",
       "      <th>Source</th>\n",
       "      <th>Industry</th>\n",
       "    </tr>\n",
       "  </thead>\n",
       "  <tbody>\n",
       "    <tr>\n",
       "      <th>10</th>\n",
       "      <td>Gautam Adani &amp; family</td>\n",
       "      <td>$90,000,000,000</td>\n",
       "      <td>59</td>\n",
       "      <td>India</td>\n",
       "      <td>infrastructure, commodities</td>\n",
       "      <td>Diversified</td>\n",
       "    </tr>\n",
       "    <tr>\n",
       "      <th>11</th>\n",
       "      <td>Michael Bloomberg</td>\n",
       "      <td>$82,000,000,000</td>\n",
       "      <td>80</td>\n",
       "      <td>United States</td>\n",
       "      <td>Bloomberg LP</td>\n",
       "      <td>Media &amp; Entertainment</td>\n",
       "    </tr>\n",
       "    <tr>\n",
       "      <th>12</th>\n",
       "      <td>Carlos Slim Helu &amp; family</td>\n",
       "      <td>$81,200,000,000</td>\n",
       "      <td>82</td>\n",
       "      <td>Mexico</td>\n",
       "      <td>telecom</td>\n",
       "      <td>Telecom</td>\n",
       "    </tr>\n",
       "    <tr>\n",
       "      <th>13</th>\n",
       "      <td>Francoise Bettencourt Meyers &amp; family</td>\n",
       "      <td>$74,800,000,000</td>\n",
       "      <td>68</td>\n",
       "      <td>France</td>\n",
       "      <td>L'Oréal</td>\n",
       "      <td>Fashion &amp; Retail</td>\n",
       "    </tr>\n",
       "    <tr>\n",
       "      <th>14</th>\n",
       "      <td>Mark Zuckerberg</td>\n",
       "      <td>$67,300,000,000</td>\n",
       "      <td>37</td>\n",
       "      <td>United States</td>\n",
       "      <td>Facebook</td>\n",
       "      <td>Technology</td>\n",
       "    </tr>\n",
       "    <tr>\n",
       "      <th>...</th>\n",
       "      <td>...</td>\n",
       "      <td>...</td>\n",
       "      <td>...</td>\n",
       "      <td>...</td>\n",
       "      <td>...</td>\n",
       "      <td>...</td>\n",
       "    </tr>\n",
       "    <tr>\n",
       "      <th>96</th>\n",
       "      <td>Vladimir Potanin</td>\n",
       "      <td>$17,300,000,000</td>\n",
       "      <td>61</td>\n",
       "      <td>Russia</td>\n",
       "      <td>metals</td>\n",
       "      <td>Metals &amp; Mining</td>\n",
       "    </tr>\n",
       "    <tr>\n",
       "      <th>97</th>\n",
       "      <td>Harold Hamm &amp; family</td>\n",
       "      <td>$17,200,000,000</td>\n",
       "      <td>76</td>\n",
       "      <td>United States</td>\n",
       "      <td>oil &amp; gas</td>\n",
       "      <td>Energy</td>\n",
       "    </tr>\n",
       "    <tr>\n",
       "      <th>98</th>\n",
       "      <td>Sun Piaoyang</td>\n",
       "      <td>$17,100,000,000</td>\n",
       "      <td>63</td>\n",
       "      <td>China</td>\n",
       "      <td>pharmaceuticals</td>\n",
       "      <td>Healthcare</td>\n",
       "    </tr>\n",
       "    <tr>\n",
       "      <th>99</th>\n",
       "      <td>Luo Liguo &amp; family</td>\n",
       "      <td>$17,000,000,000</td>\n",
       "      <td>66</td>\n",
       "      <td>China</td>\n",
       "      <td>chemicals</td>\n",
       "      <td>Manufacturing</td>\n",
       "    </tr>\n",
       "    <tr>\n",
       "      <th>100</th>\n",
       "      <td>Peter Woo</td>\n",
       "      <td>$17,000,000,000</td>\n",
       "      <td>75</td>\n",
       "      <td>Hong Kong</td>\n",
       "      <td>real estate</td>\n",
       "      <td>Real Estate</td>\n",
       "    </tr>\n",
       "  </tbody>\n",
       "</table>\n",
       "<p>91 rows × 6 columns</p>\n",
       "</div>"
      ],
      "text/plain": [
       "                                      Name         NetWorth  Age  \\\n",
       "10                   Gautam Adani & family  $90,000,000,000   59   \n",
       "11                       Michael Bloomberg  $82,000,000,000   80   \n",
       "12               Carlos Slim Helu & family  $81,200,000,000   82   \n",
       "13   Francoise Bettencourt Meyers & family  $74,800,000,000   68   \n",
       "14                         Mark Zuckerberg  $67,300,000,000   37   \n",
       "..                                     ...              ...  ...   \n",
       "96                        Vladimir Potanin  $17,300,000,000   61   \n",
       "97                    Harold Hamm & family  $17,200,000,000   76   \n",
       "98                            Sun Piaoyang  $17,100,000,000   63   \n",
       "99                      Luo Liguo & family  $17,000,000,000   66   \n",
       "100                              Peter Woo  $17,000,000,000   75   \n",
       "\n",
       "    Country/Territory                       Source               Industry  \n",
       "10              India  infrastructure, commodities            Diversified  \n",
       "11      United States                 Bloomberg LP  Media & Entertainment  \n",
       "12             Mexico                      telecom                Telecom  \n",
       "13             France                      L'Oréal       Fashion & Retail  \n",
       "14      United States                     Facebook             Technology  \n",
       "..                ...                          ...                    ...  \n",
       "96             Russia                       metals        Metals & Mining  \n",
       "97      United States                    oil & gas                 Energy  \n",
       "98              China              pharmaceuticals             Healthcare  \n",
       "99              China                    chemicals          Manufacturing  \n",
       "100         Hong Kong                  real estate            Real Estate  \n",
       "\n",
       "[91 rows x 6 columns]"
      ]
     },
     "execution_count": 26,
     "metadata": {},
     "output_type": "execute_result"
    }
   ],
   "source": [
    "richest.tail(-10)  # Will return all rows from the end (excluding first 10)"
   ]
  },
  {
   "cell_type": "markdown",
   "id": "c3025f94",
   "metadata": {},
   "source": [
    "2-Sorting Values in a series"
   ]
  },
  {
   "cell_type": "code",
   "execution_count": 34,
   "id": "939040a9",
   "metadata": {},
   "outputs": [
    {
     "data": {
      "text/plain": [
       "0                     Elon Musk\n",
       "1                    Jeff Bezos\n",
       "2      Bernard Arnault & family\n",
       "3                    Bill Gates\n",
       "4                Warren Buffett\n",
       "                 ...           \n",
       "96             Vladimir Potanin\n",
       "97         Harold Hamm & family\n",
       "98                 Sun Piaoyang\n",
       "99           Luo Liguo & family\n",
       "100                   Peter Woo\n",
       "Name: Name, Length: 101, dtype: object"
      ]
     },
     "execution_count": 34,
     "metadata": {},
     "output_type": "execute_result"
    }
   ],
   "source": [
    "richest=pd.read_csv('Resources\\TopRichestInWorld.csv', usecols=['Name']).squeeze()\n",
    "richest"
   ]
  },
  {
   "cell_type": "code",
   "execution_count": 38,
   "id": "902abbc6",
   "metadata": {},
   "outputs": [
    {
     "data": {
      "text/plain": [
       "0           Abigail Johnson\n",
       "1          Alain Wertheimer\n",
       "2              Alice Walton\n",
       "3            Amancio Ortega\n",
       "4            Andrew Forrest\n",
       "               ...         \n",
       "96           Warren Buffett\n",
       "97         William Lei Ding\n",
       "98     Yang Huiyan & family\n",
       "99             Zhang Yiming\n",
       "100          Zhong Shanshan\n",
       "Name: Name, Length: 101, dtype: object"
      ]
     },
     "execution_count": 38,
     "metadata": {},
     "output_type": "execute_result"
    }
   ],
   "source": [
    "richest.sort_values(axis=0,\n",
    "                    ascending=True,\n",
    "                    inplace=False,\n",
    "                    kind='quicksort',\n",
    "                    na_position='last',\n",
    "                    ignore_index=True)"
   ]
  },
  {
   "cell_type": "code",
   "execution_count": 41,
   "id": "8d99637d",
   "metadata": {},
   "outputs": [
    {
     "data": {
      "text/plain": [
       "0                     Peter Woo\n",
       "1            Luo Liguo & family\n",
       "2                  Sun Piaoyang\n",
       "3          Harold Hamm & family\n",
       "4              Vladimir Potanin\n",
       "                 ...           \n",
       "96               Warren Buffett\n",
       "97                   Bill Gates\n",
       "98     Bernard Arnault & family\n",
       "99                   Jeff Bezos\n",
       "100                   Elon Musk\n",
       "Name: Name, Length: 101, dtype: object"
      ]
     },
     "execution_count": 41,
     "metadata": {},
     "output_type": "execute_result"
    }
   ],
   "source": [
    "richest.sort_index(ascending=False,\n",
    "                   ignore_index=True)"
   ]
  },
  {
   "cell_type": "markdown",
   "id": "760dd922",
   "metadata": {},
   "source": [
    "3-Counting values in series"
   ]
  },
  {
   "cell_type": "code",
   "execution_count": 44,
   "id": "cd19ff66",
   "metadata": {},
   "outputs": [
    {
     "data": {
      "text/plain": [
       "0                 Automotive\n",
       "1                 Technology\n",
       "2           Fashion & Retail\n",
       "3                 Technology\n",
       "4      Finance & Investments\n",
       "               ...          \n",
       "96           Metals & Mining\n",
       "97                    Energy\n",
       "98                Healthcare\n",
       "99             Manufacturing\n",
       "100              Real Estate\n",
       "Name: Industry, Length: 101, dtype: object"
      ]
     },
     "execution_count": 44,
     "metadata": {},
     "output_type": "execute_result"
    }
   ],
   "source": [
    "richest=pd.read_csv('Resources\\TopRichestInWorld.csv', usecols=['Industry']).squeeze()\n",
    "richest"
   ]
  },
  {
   "cell_type": "code",
   "execution_count": 49,
   "id": "9c6f3a91",
   "metadata": {},
   "outputs": [
    {
     "data": {
      "text/plain": [
       "Industry\n",
       "Fashion & Retail         18\n",
       "Technology               15\n",
       "Finance & Investments    13\n",
       "Metals & Mining           9\n",
       "Food & Beverage           8\n",
       "Automotive                7\n",
       "Diversified               6\n",
       "Manufacturing             5\n",
       "Healthcare                5\n",
       "Media & Entertainment     4\n",
       "Real Estate               3\n",
       "Telecom                   2\n",
       "Logistics                 2\n",
       "Energy                    2\n",
       "Gambling & Casinos        1\n",
       "Service                   1\n",
       "Name: count, dtype: int64"
      ]
     },
     "execution_count": 49,
     "metadata": {},
     "output_type": "execute_result"
    }
   ],
   "source": [
    "richest.value_counts(normalize=False,\n",
    "                     ascending=False,\n",
    "                     dropna=False)\n"
   ]
  },
  {
   "cell_type": "code",
   "execution_count": 50,
   "id": "7ccbb2e9",
   "metadata": {},
   "outputs": [
    {
     "data": {
      "text/plain": [
       "0      50\n",
       "1      58\n",
       "2      73\n",
       "3      66\n",
       "4      91\n",
       "       ..\n",
       "96     61\n",
       "97     76\n",
       "98     63\n",
       "99     66\n",
       "100    75\n",
       "Name: Age, Length: 101, dtype: int64"
      ]
     },
     "execution_count": 50,
     "metadata": {},
     "output_type": "execute_result"
    }
   ],
   "source": [
    "richest=pd.read_csv('Resources\\TopRichestInWorld.csv', usecols=['Age']).squeeze()\n",
    "richest"
   ]
  },
  {
   "cell_type": "code",
   "execution_count": null,
   "id": "52cecc52",
   "metadata": {},
   "outputs": [
    {
     "data": {
      "text/plain": [
       "(55.6, 68.4]      33\n",
       "(68.4, 81.2]      27\n",
       "(81.2, 94.0]      19\n",
       "(42.8, 55.6]      17\n",
       "(29.935, 42.8]     5\n",
       "Name: count, dtype: int64"
      ]
     },
     "execution_count": 52,
     "metadata": {},
     "output_type": "execute_result"
    }
   ],
   "source": [
    "richest.value_counts(bins=5)  # It creates groups (only in numeric data)"
   ]
  },
  {
   "cell_type": "markdown",
   "id": "5e27a1b8",
   "metadata": {},
   "source": [
    "4-Accessing Elements by Position"
   ]
  },
  {
   "cell_type": "code",
   "execution_count": 53,
   "id": "ee13df29",
   "metadata": {},
   "outputs": [
    {
     "data": {
      "text/plain": [
       "0                     Elon Musk\n",
       "1                    Jeff Bezos\n",
       "2      Bernard Arnault & family\n",
       "3                    Bill Gates\n",
       "4                Warren Buffett\n",
       "                 ...           \n",
       "96             Vladimir Potanin\n",
       "97         Harold Hamm & family\n",
       "98                 Sun Piaoyang\n",
       "99           Luo Liguo & family\n",
       "100                   Peter Woo\n",
       "Name: Name, Length: 101, dtype: object"
      ]
     },
     "execution_count": 53,
     "metadata": {},
     "output_type": "execute_result"
    }
   ],
   "source": [
    "richest=pd.read_csv('Resources\\TopRichestInWorld.csv', usecols=['Name']).squeeze()\n",
    "richest"
   ]
  },
  {
   "cell_type": "code",
   "execution_count": 54,
   "id": "ab2df8f4",
   "metadata": {},
   "outputs": [
    {
     "data": {
      "text/plain": [
       "0                   Elon Musk\n",
       "1                  Jeff Bezos\n",
       "2    Bernard Arnault & family\n",
       "3                  Bill Gates\n",
       "4              Warren Buffett\n",
       "5                  Larry Page\n",
       "6                 Sergey Brin\n",
       "7               Larry Ellison\n",
       "8               Steve Ballmer\n",
       "9               Mukesh Ambani\n",
       "Name: Name, dtype: object"
      ]
     },
     "execution_count": 54,
     "metadata": {},
     "output_type": "execute_result"
    }
   ],
   "source": [
    "richest.head(10)"
   ]
  },
  {
   "cell_type": "code",
   "execution_count": 55,
   "id": "77ff1eee",
   "metadata": {},
   "outputs": [
    {
     "data": {
      "text/plain": [
       "'Elon Musk'"
      ]
     },
     "execution_count": 55,
     "metadata": {},
     "output_type": "execute_result"
    }
   ],
   "source": [
    "richest[0]"
   ]
  },
  {
   "cell_type": "code",
   "execution_count": 56,
   "id": "6c748a46",
   "metadata": {},
   "outputs": [
    {
     "data": {
      "text/plain": [
       "1                   Jeff Bezos\n",
       "2     Bernard Arnault & family\n",
       "15                  Jim Walton\n",
       "Name: Name, dtype: object"
      ]
     },
     "execution_count": 56,
     "metadata": {},
     "output_type": "execute_result"
    }
   ],
   "source": [
    "richest[[1,2,15]]"
   ]
  },
  {
   "cell_type": "code",
   "execution_count": 57,
   "id": "cca650da",
   "metadata": {},
   "outputs": [
    {
     "data": {
      "text/plain": [
       "5       Larry Page\n",
       "6      Sergey Brin\n",
       "7    Larry Ellison\n",
       "8    Steve Ballmer\n",
       "9    Mukesh Ambani\n",
       "Name: Name, dtype: object"
      ]
     },
     "execution_count": 57,
     "metadata": {},
     "output_type": "execute_result"
    }
   ],
   "source": [
    "richest[5:10]"
   ]
  },
  {
   "cell_type": "code",
   "execution_count": 58,
   "id": "c8cfdd4b",
   "metadata": {},
   "outputs": [
    {
     "data": {
      "text/plain": [
       "0                 Elon Musk\n",
       "5                Larry Page\n",
       "10    Gautam Adani & family\n",
       "15               Jim Walton\n",
       "20             Charles Koch\n",
       "Name: Name, dtype: object"
      ]
     },
     "execution_count": 58,
     "metadata": {},
     "output_type": "execute_result"
    }
   ],
   "source": [
    "richest[0:21:5]"
   ]
  },
  {
   "cell_type": "code",
   "execution_count": 59,
   "id": "25a3256d",
   "metadata": {},
   "outputs": [
    {
     "data": {
      "text/plain": [
       "0                   Elon Musk\n",
       "1                  Jeff Bezos\n",
       "2    Bernard Arnault & family\n",
       "3                  Bill Gates\n",
       "4              Warren Buffett\n",
       "5                  Larry Page\n",
       "6                 Sergey Brin\n",
       "7               Larry Ellison\n",
       "8               Steve Ballmer\n",
       "9               Mukesh Ambani\n",
       "Name: Name, dtype: object"
      ]
     },
     "execution_count": 59,
     "metadata": {},
     "output_type": "execute_result"
    }
   ],
   "source": [
    "richest[:10]"
   ]
  },
  {
   "cell_type": "code",
   "execution_count": 61,
   "id": "1383a7de",
   "metadata": {},
   "outputs": [
    {
     "data": {
      "text/plain": [
       "100    Peter Woo\n",
       "Name: Name, dtype: object"
      ]
     },
     "execution_count": 61,
     "metadata": {},
     "output_type": "execute_result"
    }
   ],
   "source": [
    "richest[-1:]"
   ]
  },
  {
   "cell_type": "code",
   "execution_count": 62,
   "id": "9916ff8d",
   "metadata": {},
   "outputs": [
    {
     "data": {
      "text/plain": [
       "RangeIndex(start=0, stop=101, step=1)"
      ]
     },
     "execution_count": 62,
     "metadata": {},
     "output_type": "execute_result"
    }
   ],
   "source": [
    "richest.index"
   ]
  },
  {
   "cell_type": "markdown",
   "id": "cc97de85",
   "metadata": {},
   "source": [
    "5-Accessing Elements By Index"
   ]
  },
  {
   "cell_type": "code",
   "execution_count": 64,
   "id": "83d751c1",
   "metadata": {},
   "outputs": [
    {
     "data": {
      "text/plain": [
       "Name\n",
       "Elon Musk                   $219,000,000,000\n",
       "Jeff Bezos                  $171,000,000,000\n",
       "Bernard Arnault & family    $158,000,000,000\n",
       "Bill Gates                  $129,000,000,000\n",
       "Warren Buffett              $118,000,000,000\n",
       "                                  ...       \n",
       "Vladimir Potanin             $17,300,000,000\n",
       "Harold Hamm & family         $17,200,000,000\n",
       "Sun Piaoyang                 $17,100,000,000\n",
       "Luo Liguo & family           $17,000,000,000\n",
       "Peter Woo                    $17,000,000,000\n",
       "Name: NetWorth, Length: 101, dtype: object"
      ]
     },
     "execution_count": 64,
     "metadata": {},
     "output_type": "execute_result"
    }
   ],
   "source": [
    "richest=pd.read_csv('Resources\\TopRichestInWorld.csv', usecols=['Name','NetWorth'], index_col='Name').squeeze()\n",
    "richest"
   ]
  },
  {
   "cell_type": "code",
   "execution_count": 65,
   "id": "2e21f1bb",
   "metadata": {},
   "outputs": [
    {
     "data": {
      "text/plain": [
       "Name\n",
       "Elon Musk                   $219,000,000,000\n",
       "Jeff Bezos                  $171,000,000,000\n",
       "Bernard Arnault & family    $158,000,000,000\n",
       "Bill Gates                  $129,000,000,000\n",
       "Warren Buffett              $118,000,000,000\n",
       "Larry Page                  $111,000,000,000\n",
       "Sergey Brin                 $107,000,000,000\n",
       "Larry Ellison               $106,000,000,000\n",
       "Steve Ballmer                $91,400,000,000\n",
       "Mukesh Ambani                $90,700,000,000\n",
       "Name: NetWorth, dtype: object"
      ]
     },
     "execution_count": 65,
     "metadata": {},
     "output_type": "execute_result"
    }
   ],
   "source": [
    "richest.head(10)"
   ]
  },
  {
   "cell_type": "code",
   "execution_count": 66,
   "id": "0dcaf913",
   "metadata": {},
   "outputs": [
    {
     "data": {
      "text/plain": [
       "'$129,000,000,000'"
      ]
     },
     "execution_count": 66,
     "metadata": {},
     "output_type": "execute_result"
    }
   ],
   "source": [
    "richest['Bill Gates']"
   ]
  },
  {
   "cell_type": "code",
   "execution_count": 68,
   "id": "06a6ea2c",
   "metadata": {},
   "outputs": [
    {
     "data": {
      "text/plain": [
       "Name\n",
       "Bill Gates        $129,000,000,000\n",
       "Warren Buffett    $118,000,000,000\n",
       "Name: NetWorth, dtype: object"
      ]
     },
     "execution_count": 68,
     "metadata": {},
     "output_type": "execute_result"
    }
   ],
   "source": [
    "richest[['Bill Gates','Warren Buffett']]"
   ]
  },
  {
   "cell_type": "code",
   "execution_count": 69,
   "id": "2a58b04b",
   "metadata": {},
   "outputs": [
    {
     "data": {
      "text/plain": [
       "Name\n",
       "Bill Gates        $129,000,000,000\n",
       "Warren Buffett    $118,000,000,000\n",
       "Larry Page        $111,000,000,000\n",
       "Sergey Brin       $107,000,000,000\n",
       "Larry Ellison     $106,000,000,000\n",
       "Steve Ballmer      $91,400,000,000\n",
       "Name: NetWorth, dtype: object"
      ]
     },
     "execution_count": 69,
     "metadata": {},
     "output_type": "execute_result"
    }
   ],
   "source": [
    "richest['Bill Gates':'Steve Ballmer']"
   ]
  },
  {
   "cell_type": "code",
   "execution_count": 70,
   "id": "075785e9",
   "metadata": {},
   "outputs": [
    {
     "data": {
      "text/plain": [
       "Name\n",
       "Elon Musk     $219,000,000,000\n",
       "Jeff Bezos    $171,000,000,000\n",
       "Name: NetWorth, dtype: object"
      ]
     },
     "execution_count": 70,
     "metadata": {},
     "output_type": "execute_result"
    }
   ],
   "source": [
    "richest[0:2]"
   ]
  },
  {
   "cell_type": "code",
   "execution_count": 71,
   "id": "e857daee",
   "metadata": {},
   "outputs": [
    {
     "data": {
      "text/plain": [
       "Index(['Elon Musk', 'Jeff Bezos', 'Bernard Arnault & family', 'Bill Gates',\n",
       "       'Warren Buffett', 'Larry Page', 'Sergey Brin', 'Larry Ellison',\n",
       "       'Steve Ballmer', 'Mukesh Ambani',\n",
       "       ...\n",
       "       'Savitri Jindal & family', 'Wang Wenyin', 'Li Xiting', 'Stefan Persson',\n",
       "       'Steve Cohen', 'Vladimir Potanin', 'Harold Hamm & family',\n",
       "       'Sun Piaoyang', 'Luo Liguo & family', 'Peter Woo'],\n",
       "      dtype='object', name='Name', length=101)"
      ]
     },
     "execution_count": 71,
     "metadata": {},
     "output_type": "execute_result"
    }
   ],
   "source": [
    "richest.index"
   ]
  }
 ],
 "metadata": {
  "kernelspec": {
   "display_name": "myvenv",
   "language": "python",
   "name": "python3"
  },
  "language_info": {
   "codemirror_mode": {
    "name": "ipython",
    "version": 3
   },
   "file_extension": ".py",
   "mimetype": "text/x-python",
   "name": "python",
   "nbconvert_exporter": "python",
   "pygments_lexer": "ipython3",
   "version": "3.11.9"
  }
 },
 "nbformat": 4,
 "nbformat_minor": 5
}
