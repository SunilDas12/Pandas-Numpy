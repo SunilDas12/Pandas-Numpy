{
 "cells": [
  {
   "cell_type": "markdown",
   "id": "18fb4eca",
   "metadata": {},
   "source": [
    "Import Pandas with alias"
   ]
  },
  {
   "cell_type": "code",
   "execution_count": 1,
   "id": "5f33081c",
   "metadata": {},
   "outputs": [],
   "source": [
    "import pandas as pd"
   ]
  },
  {
   "cell_type": "markdown",
   "id": "31cb5a65",
   "metadata": {},
   "source": [
    "Load the TopRichestIn World.csv file and make 'Name' the index and 'Age' the column"
   ]
  },
  {
   "cell_type": "code",
   "execution_count": 3,
   "id": "319d5007",
   "metadata": {},
   "outputs": [
    {
     "data": {
      "text/plain": [
       "Name\n",
       "Elon Musk                   50\n",
       "Jeff Bezos                  58\n",
       "Bernard Arnault & family    73\n",
       "Bill Gates                  66\n",
       "Warren Buffett              91\n",
       "                            ..\n",
       "Vladimir Potanin            61\n",
       "Harold Hamm & family        76\n",
       "Sun Piaoyang                63\n",
       "Luo Liguo & family          66\n",
       "Peter Woo                   75\n",
       "Name: Age, Length: 101, dtype: int64"
      ]
     },
     "execution_count": 3,
     "metadata": {},
     "output_type": "execute_result"
    }
   ],
   "source": [
    "richest=pd.read_csv('Resources\\TopRichestInWorld.csv', usecols=['Name','Age'], index_col='Name').squeeze()\n",
    "richest"
   ]
  },
  {
   "cell_type": "markdown",
   "id": "fae6be01",
   "metadata": {},
   "source": [
    "Which person is the oldest ?"
   ]
  },
  {
   "cell_type": "code",
   "execution_count": 6,
   "id": "58e9b62d",
   "metadata": {},
   "outputs": [
    {
     "data": {
      "text/plain": [
       "'Lee Shau Kee'"
      ]
     },
     "execution_count": 6,
     "metadata": {},
     "output_type": "execute_result"
    }
   ],
   "source": [
    "oldest=richest.idxmax()\n",
    "oldest"
   ]
  },
  {
   "cell_type": "markdown",
   "id": "33fc2d3d",
   "metadata": {},
   "source": [
    "How old is he ?"
   ]
  },
  {
   "cell_type": "code",
   "execution_count": 9,
   "id": "cff6e9e3",
   "metadata": {},
   "outputs": [
    {
     "data": {
      "text/plain": [
       "np.int64(94)"
      ]
     },
     "execution_count": 9,
     "metadata": {},
     "output_type": "execute_result"
    }
   ],
   "source": [
    "richest[oldest]"
   ]
  },
  {
   "cell_type": "markdown",
   "id": "bd148351",
   "metadata": {},
   "source": [
    "Sort the values from the oldest to youngest age to verify"
   ]
  },
  {
   "cell_type": "code",
   "execution_count": 10,
   "id": "d6b1e2be",
   "metadata": {},
   "outputs": [
    {
     "data": {
      "text/plain": [
       "Name\n",
       "Lee Shau Kee               94\n",
       "Li Ka-shing                93\n",
       "Warren Buffett             91\n",
       "Rupert Murdoch & family    91\n",
       "Leonard Lauder             89\n",
       "                           ..\n",
       "Guillaume Pousaz           40\n",
       "Yang Huiyan & family       40\n",
       "Zhang Yiming               38\n",
       "Mark Zuckerberg            37\n",
       "Sam Bankman-Fried          30\n",
       "Name: Age, Length: 101, dtype: int64"
      ]
     },
     "execution_count": 10,
     "metadata": {},
     "output_type": "execute_result"
    }
   ],
   "source": [
    "richest.sort_values(ascending=False)"
   ]
  },
  {
   "cell_type": "markdown",
   "id": "31701c6b",
   "metadata": {},
   "source": [
    "Which person is the youngest ?"
   ]
  },
  {
   "cell_type": "code",
   "execution_count": 11,
   "id": "d3e84955",
   "metadata": {},
   "outputs": [
    {
     "data": {
      "text/plain": [
       "'Sam Bankman-Fried'"
      ]
     },
     "execution_count": 11,
     "metadata": {},
     "output_type": "execute_result"
    }
   ],
   "source": [
    "youngest=richest.idxmin()\n",
    "youngest"
   ]
  },
  {
   "cell_type": "markdown",
   "id": "6e5ae48f",
   "metadata": {},
   "source": [
    "How young is the youngest?"
   ]
  },
  {
   "cell_type": "code",
   "execution_count": 12,
   "id": "e34f08db",
   "metadata": {},
   "outputs": [
    {
     "data": {
      "text/plain": [
       "np.int64(30)"
      ]
     },
     "execution_count": 12,
     "metadata": {},
     "output_type": "execute_result"
    }
   ],
   "source": [
    "richest[youngest]"
   ]
  },
  {
   "cell_type": "markdown",
   "id": "d9c97271",
   "metadata": {},
   "source": [
    "What is the average age of all the millionaries ? (Round it to 2 decimal places)"
   ]
  },
  {
   "cell_type": "code",
   "execution_count": 14,
   "id": "ee9a859b",
   "metadata": {},
   "outputs": [
    {
     "data": {
      "text/plain": [
       "np.float64(67.12)"
      ]
     },
     "execution_count": 14,
     "metadata": {},
     "output_type": "execute_result"
    }
   ],
   "source": [
    "richest.mean().round(2)"
   ]
  },
  {
   "cell_type": "markdown",
   "id": "2ed58c5c",
   "metadata": {},
   "source": [
    "Save the series as a csv file named: sample.csv"
   ]
  },
  {
   "cell_type": "code",
   "execution_count": 16,
   "id": "36654ab8",
   "metadata": {},
   "outputs": [],
   "source": [
    "richest.to_csv('Resources/sample.csv')"
   ]
  },
  {
   "cell_type": "markdown",
   "id": "a028cb3b",
   "metadata": {},
   "source": [
    "Read the csv you just saved"
   ]
  },
  {
   "cell_type": "code",
   "execution_count": 17,
   "id": "1516d560",
   "metadata": {},
   "outputs": [
    {
     "data": {
      "text/html": [
       "<div>\n",
       "<style scoped>\n",
       "    .dataframe tbody tr th:only-of-type {\n",
       "        vertical-align: middle;\n",
       "    }\n",
       "\n",
       "    .dataframe tbody tr th {\n",
       "        vertical-align: top;\n",
       "    }\n",
       "\n",
       "    .dataframe thead th {\n",
       "        text-align: right;\n",
       "    }\n",
       "</style>\n",
       "<table border=\"1\" class=\"dataframe\">\n",
       "  <thead>\n",
       "    <tr style=\"text-align: right;\">\n",
       "      <th></th>\n",
       "      <th>Name</th>\n",
       "      <th>Age</th>\n",
       "    </tr>\n",
       "  </thead>\n",
       "  <tbody>\n",
       "    <tr>\n",
       "      <th>0</th>\n",
       "      <td>Elon Musk</td>\n",
       "      <td>50</td>\n",
       "    </tr>\n",
       "    <tr>\n",
       "      <th>1</th>\n",
       "      <td>Jeff Bezos</td>\n",
       "      <td>58</td>\n",
       "    </tr>\n",
       "    <tr>\n",
       "      <th>2</th>\n",
       "      <td>Bernard Arnault &amp; family</td>\n",
       "      <td>73</td>\n",
       "    </tr>\n",
       "    <tr>\n",
       "      <th>3</th>\n",
       "      <td>Bill Gates</td>\n",
       "      <td>66</td>\n",
       "    </tr>\n",
       "    <tr>\n",
       "      <th>4</th>\n",
       "      <td>Warren Buffett</td>\n",
       "      <td>91</td>\n",
       "    </tr>\n",
       "    <tr>\n",
       "      <th>...</th>\n",
       "      <td>...</td>\n",
       "      <td>...</td>\n",
       "    </tr>\n",
       "    <tr>\n",
       "      <th>96</th>\n",
       "      <td>Vladimir Potanin</td>\n",
       "      <td>61</td>\n",
       "    </tr>\n",
       "    <tr>\n",
       "      <th>97</th>\n",
       "      <td>Harold Hamm &amp; family</td>\n",
       "      <td>76</td>\n",
       "    </tr>\n",
       "    <tr>\n",
       "      <th>98</th>\n",
       "      <td>Sun Piaoyang</td>\n",
       "      <td>63</td>\n",
       "    </tr>\n",
       "    <tr>\n",
       "      <th>99</th>\n",
       "      <td>Luo Liguo &amp; family</td>\n",
       "      <td>66</td>\n",
       "    </tr>\n",
       "    <tr>\n",
       "      <th>100</th>\n",
       "      <td>Peter Woo</td>\n",
       "      <td>75</td>\n",
       "    </tr>\n",
       "  </tbody>\n",
       "</table>\n",
       "<p>101 rows × 2 columns</p>\n",
       "</div>"
      ],
      "text/plain": [
       "                         Name  Age\n",
       "0                   Elon Musk   50\n",
       "1                  Jeff Bezos   58\n",
       "2    Bernard Arnault & family   73\n",
       "3                  Bill Gates   66\n",
       "4              Warren Buffett   91\n",
       "..                        ...  ...\n",
       "96           Vladimir Potanin   61\n",
       "97       Harold Hamm & family   76\n",
       "98               Sun Piaoyang   63\n",
       "99         Luo Liguo & family   66\n",
       "100                 Peter Woo   75\n",
       "\n",
       "[101 rows x 2 columns]"
      ]
     },
     "execution_count": 17,
     "metadata": {},
     "output_type": "execute_result"
    }
   ],
   "source": [
    "pd.read_csv('Resources/sample.csv')"
   ]
  }
 ],
 "metadata": {
  "kernelspec": {
   "display_name": "myvenv",
   "language": "python",
   "name": "python3"
  },
  "language_info": {
   "codemirror_mode": {
    "name": "ipython",
    "version": 3
   },
   "file_extension": ".py",
   "mimetype": "text/x-python",
   "name": "python",
   "nbconvert_exporter": "python",
   "pygments_lexer": "ipython3",
   "version": "3.11.9"
  }
 },
 "nbformat": 4,
 "nbformat_minor": 5
}
