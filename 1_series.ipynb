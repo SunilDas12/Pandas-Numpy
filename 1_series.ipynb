{
 "cells": [
  {
   "cell_type": "markdown",
   "id": "fde6fdf3",
   "metadata": {},
   "source": [
    "Series is one-dimentional labeled array capabple of holding any data type(integers, string, floating point numbers, pyhton objects, etc.). The axis labels are collecctively referred to as the index."
   ]
  },
  {
   "cell_type": "code",
   "execution_count": 2,
   "id": "5618b4e0",
   "metadata": {},
   "outputs": [],
   "source": [
    "import pandas as pd"
   ]
  },
  {
   "cell_type": "code",
   "execution_count": 3,
   "id": "67adc865",
   "metadata": {},
   "outputs": [],
   "source": [
    "numbers=[1,2,3,4,5]"
   ]
  },
  {
   "cell_type": "code",
   "execution_count": 4,
   "id": "ca6558ba",
   "metadata": {},
   "outputs": [
    {
     "data": {
      "text/plain": [
       "0    1\n",
       "1    2\n",
       "2    3\n",
       "3    4\n",
       "4    5\n",
       "dtype: int64"
      ]
     },
     "execution_count": 4,
     "metadata": {},
     "output_type": "execute_result"
    }
   ],
   "source": [
    "pd.Series(numbers)"
   ]
  },
  {
   "cell_type": "code",
   "execution_count": 5,
   "id": "41750157",
   "metadata": {},
   "outputs": [],
   "source": [
    "letters=['a','b','c','d','e']"
   ]
  },
  {
   "cell_type": "code",
   "execution_count": 6,
   "id": "82c573e0",
   "metadata": {},
   "outputs": [
    {
     "data": {
      "text/plain": [
       "1    a\n",
       "2    b\n",
       "3    c\n",
       "4    d\n",
       "5    e\n",
       "dtype: object"
      ]
     },
     "execution_count": 6,
     "metadata": {},
     "output_type": "execute_result"
    }
   ],
   "source": [
    "pd.Series(data=letters, index=numbers) # Index can be any data type"
   ]
  },
  {
   "cell_type": "code",
   "execution_count": 7,
   "id": "fc8c47fd",
   "metadata": {},
   "outputs": [
    {
     "data": {
      "text/plain": [
       "letter1    a\n",
       "letter2    b\n",
       "letter3    c\n",
       "letter4    d\n",
       "letter5    e\n",
       "dtype: object"
      ]
     },
     "execution_count": 7,
     "metadata": {},
     "output_type": "execute_result"
    }
   ],
   "source": [
    "pd.Series(data=letters, index=['letter1','letter2', 'letter3','letter4','letter5'])"
   ]
  },
  {
   "cell_type": "code",
   "execution_count": 8,
   "id": "2c72451d",
   "metadata": {},
   "outputs": [],
   "source": [
    "data={'name':'Sunil', 'age':26, 'work':'Software Engineer'}"
   ]
  },
  {
   "cell_type": "code",
   "execution_count": 9,
   "id": "70169543",
   "metadata": {},
   "outputs": [
    {
     "data": {
      "text/plain": [
       "name                Sunil\n",
       "age                    26\n",
       "work    Software Engineer\n",
       "dtype: object"
      ]
     },
     "execution_count": 9,
     "metadata": {},
     "output_type": "execute_result"
    }
   ],
   "source": [
    "pd.Series(data=data)"
   ]
  },
  {
   "cell_type": "code",
   "execution_count": 10,
   "id": "4f4b6099",
   "metadata": {},
   "outputs": [
    {
     "data": {
      "text/plain": [
       "name    Sunil\n",
       "age        26\n",
       "job       NaN\n",
       "dtype: object"
      ]
     },
     "execution_count": 10,
     "metadata": {},
     "output_type": "execute_result"
    }
   ],
   "source": [
    "pd.Series(data=data, index=['name','age','job'])   #Indnex not matched will provide Nan"
   ]
  },
  {
   "cell_type": "markdown",
   "id": "90a6d9b1",
   "metadata": {},
   "source": [
    "Series-Attributes"
   ]
  },
  {
   "cell_type": "code",
   "execution_count": 11,
   "id": "f36dbde1",
   "metadata": {},
   "outputs": [],
   "source": [
    "numbers=[1,2,3,4,5]\n",
    "letters=['a','b','c','d','e']"
   ]
  },
  {
   "cell_type": "code",
   "execution_count": 12,
   "id": "e1c620af",
   "metadata": {},
   "outputs": [
    {
     "data": {
      "text/plain": [
       "0    1\n",
       "1    2\n",
       "2    3\n",
       "3    4\n",
       "4    5\n",
       "dtype: int64"
      ]
     },
     "execution_count": 12,
     "metadata": {},
     "output_type": "execute_result"
    }
   ],
   "source": [
    "number_series=pd.Series(numbers)\n",
    "number_series"
   ]
  },
  {
   "cell_type": "code",
   "execution_count": 13,
   "id": "3ca30d42",
   "metadata": {},
   "outputs": [
    {
     "data": {
      "text/plain": [
       "0    a\n",
       "1    b\n",
       "2    c\n",
       "3    d\n",
       "4    e\n",
       "dtype: object"
      ]
     },
     "execution_count": 13,
     "metadata": {},
     "output_type": "execute_result"
    }
   ],
   "source": [
    "letter_series=pd.Series(letters)\n",
    "letter_series"
   ]
  },
  {
   "cell_type": "code",
   "execution_count": 16,
   "id": "be6d70eb",
   "metadata": {},
   "outputs": [
    {
     "data": {
      "text/plain": [
       "dtype('int64')"
      ]
     },
     "execution_count": 16,
     "metadata": {},
     "output_type": "execute_result"
    }
   ],
   "source": [
    "number_series.dtype"
   ]
  },
  {
   "cell_type": "code",
   "execution_count": null,
   "id": "8293b504",
   "metadata": {},
   "outputs": [
    {
     "data": {
      "text/plain": [
       "dtype('O')"
      ]
     },
     "execution_count": 17,
     "metadata": {},
     "output_type": "execute_result"
    }
   ],
   "source": [
    "letter_series.dtype"
   ]
  },
  {
   "cell_type": "code",
   "execution_count": 18,
   "id": "1b65c7c4",
   "metadata": {},
   "outputs": [
    {
     "data": {
      "text/plain": [
       "array(['a', 'b', 'c', 'd', 'e'], dtype=object)"
      ]
     },
     "execution_count": 18,
     "metadata": {},
     "output_type": "execute_result"
    }
   ],
   "source": [
    "letter_series.values"
   ]
  },
  {
   "cell_type": "code",
   "execution_count": 19,
   "id": "a14d1cbc",
   "metadata": {},
   "outputs": [
    {
     "data": {
      "text/plain": [
       "RangeIndex(start=0, stop=5, step=1)"
      ]
     },
     "execution_count": 19,
     "metadata": {},
     "output_type": "execute_result"
    }
   ],
   "source": [
    "number_series.index"
   ]
  },
  {
   "cell_type": "code",
   "execution_count": 20,
   "id": "9f5f6747",
   "metadata": {},
   "outputs": [],
   "source": [
    "incomplete_series=pd.Series(data=['a','b',None], index=[1,2,3])"
   ]
  },
  {
   "cell_type": "code",
   "execution_count": 21,
   "id": "985273c7",
   "metadata": {},
   "outputs": [
    {
     "data": {
      "text/plain": [
       "True"
      ]
     },
     "execution_count": 21,
     "metadata": {},
     "output_type": "execute_result"
    }
   ],
   "source": [
    "incomplete_series.hasnans"
   ]
  },
  {
   "cell_type": "code",
   "execution_count": 22,
   "id": "8d8c8528",
   "metadata": {},
   "outputs": [
    {
     "data": {
      "text/plain": [
       "1       a\n",
       "2       b\n",
       "3    None\n",
       "dtype: object"
      ]
     },
     "execution_count": 22,
     "metadata": {},
     "output_type": "execute_result"
    }
   ],
   "source": [
    "incomplete_series"
   ]
  },
  {
   "cell_type": "code",
   "execution_count": 23,
   "id": "d4734592",
   "metadata": {},
   "outputs": [
    {
     "data": {
      "text/plain": [
       "(5,)"
      ]
     },
     "execution_count": 23,
     "metadata": {},
     "output_type": "execute_result"
    }
   ],
   "source": [
    "number_series.shape"
   ]
  },
  {
   "cell_type": "code",
   "execution_count": 24,
   "id": "1cb916a6",
   "metadata": {},
   "outputs": [
    {
     "data": {
      "text/plain": [
       "5"
      ]
     },
     "execution_count": 24,
     "metadata": {},
     "output_type": "execute_result"
    }
   ],
   "source": [
    "number_series.size"
   ]
  },
  {
   "cell_type": "markdown",
   "id": "938cd378",
   "metadata": {},
   "source": [
    "Series-Function"
   ]
  },
  {
   "cell_type": "code",
   "execution_count": 35,
   "id": "d515895f",
   "metadata": {},
   "outputs": [],
   "source": [
    "values=pd.Series(data=[1.5, 2.5, 0.5, None, 4.2345, 1.0])"
   ]
  },
  {
   "cell_type": "code",
   "execution_count": 26,
   "id": "0f6f84bd",
   "metadata": {},
   "outputs": [
    {
     "data": {
      "text/plain": [
       "np.float64(4.0)"
      ]
     },
     "execution_count": 26,
     "metadata": {},
     "output_type": "execute_result"
    }
   ],
   "source": [
    "values.max()"
   ]
  },
  {
   "cell_type": "code",
   "execution_count": 27,
   "id": "ffcd70a5",
   "metadata": {},
   "outputs": [
    {
     "data": {
      "text/plain": [
       "np.float64(0.5)"
      ]
     },
     "execution_count": 27,
     "metadata": {},
     "output_type": "execute_result"
    }
   ],
   "source": [
    "values.min()"
   ]
  },
  {
   "cell_type": "code",
   "execution_count": 28,
   "id": "e56f7e01",
   "metadata": {},
   "outputs": [
    {
     "data": {
      "text/plain": [
       "np.float64(9.5)"
      ]
     },
     "execution_count": 28,
     "metadata": {},
     "output_type": "execute_result"
    }
   ],
   "source": [
    "values.sum()"
   ]
  },
  {
   "cell_type": "code",
   "execution_count": 29,
   "id": "ffc633a2",
   "metadata": {},
   "outputs": [
    {
     "data": {
      "text/plain": [
       "np.float64(1.9)"
      ]
     },
     "execution_count": 29,
     "metadata": {},
     "output_type": "execute_result"
    }
   ],
   "source": [
    "values.mean()"
   ]
  },
  {
   "cell_type": "code",
   "execution_count": null,
   "id": "c89ed2c7",
   "metadata": {},
   "outputs": [
    {
     "data": {
      "text/plain": [
       "4"
      ]
     },
     "execution_count": 30,
     "metadata": {},
     "output_type": "execute_result"
    }
   ],
   "source": [
    "# Get the index of the max & min value of the series\n",
    "values.idxmax() "
   ]
  },
  {
   "cell_type": "code",
   "execution_count": 32,
   "id": "ccc8eee0",
   "metadata": {},
   "outputs": [
    {
     "data": {
      "text/plain": [
       "2"
      ]
     },
     "execution_count": 32,
     "metadata": {},
     "output_type": "execute_result"
    }
   ],
   "source": [
    "values.idxmin()"
   ]
  },
  {
   "cell_type": "code",
   "execution_count": 33,
   "id": "92d7ab6b",
   "metadata": {},
   "outputs": [
    {
     "data": {
      "text/plain": [
       "0    False\n",
       "1    False\n",
       "2    False\n",
       "3     True\n",
       "4    False\n",
       "5    False\n",
       "dtype: bool"
      ]
     },
     "execution_count": 33,
     "metadata": {},
     "output_type": "execute_result"
    }
   ],
   "source": [
    "values.isnull()"
   ]
  },
  {
   "cell_type": "code",
   "execution_count": 34,
   "id": "4df92766",
   "metadata": {},
   "outputs": [
    {
     "data": {
      "text/plain": [
       "0    2.0\n",
       "1    2.0\n",
       "2    0.0\n",
       "3    NaN\n",
       "4    4.0\n",
       "5    1.0\n",
       "dtype: float64"
      ]
     },
     "execution_count": 34,
     "metadata": {},
     "output_type": "execute_result"
    }
   ],
   "source": [
    "# Round each values in the series\n",
    "values.round()"
   ]
  },
  {
   "cell_type": "code",
   "execution_count": 36,
   "id": "8e81b8fa",
   "metadata": {},
   "outputs": [
    {
     "data": {
      "text/plain": [
       "0    1.500\n",
       "1    2.500\n",
       "2    0.500\n",
       "3      NaN\n",
       "4    4.234\n",
       "5    1.000\n",
       "dtype: float64"
      ]
     },
     "execution_count": 36,
     "metadata": {},
     "output_type": "execute_result"
    }
   ],
   "source": [
    "values.round(3)"
   ]
  }
 ],
 "metadata": {
  "kernelspec": {
   "display_name": "myvenv",
   "language": "python",
   "name": "python3"
  },
  "language_info": {
   "codemirror_mode": {
    "name": "ipython",
    "version": 3
   },
   "file_extension": ".py",
   "mimetype": "text/x-python",
   "name": "python",
   "nbconvert_exporter": "python",
   "pygments_lexer": "ipython3",
   "version": "3.11.9"
  }
 },
 "nbformat": 4,
 "nbformat_minor": 5
}
